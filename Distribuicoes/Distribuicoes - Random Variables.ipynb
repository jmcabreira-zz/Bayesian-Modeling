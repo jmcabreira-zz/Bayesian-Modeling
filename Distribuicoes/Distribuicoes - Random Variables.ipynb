{
 "cells": [
  {
   "cell_type": "markdown",
   "id": "f7a51461",
   "metadata": {},
   "source": [
    "Distribuições de Probabilidades\n",
    "======\n",
    "`Modelar um evento é compreender como os dados são gerados e associar o processo gerador a métodos matemáticos e estatísticos que nos ajudem a descrever o evento. Para isso, precisamos entender distribuições de probabilidades, seus casos de uso e conceitos por trás das mesmas.`\n",
    "\n",
    "___\n",
    "\n",
    "Nesse notebook iremos nós monstrar algumas distribuições de probabilidades que podem ajudar na modelagem de diversos problemas encontrados na indústria ou na academia. O conteúdo desse notebook pode ser melhor explorado no livro bayesian modeling for hackers, que é a referência para meu estudo e fonte dos códigos para plots.\n"
   ]
  },
  {
   "cell_type": "markdown",
   "id": "175ce894",
   "metadata": {},
   "source": [
    "\n",
    "## Distribuição de Probabilidade\n",
    "\n",
    "\n",
    "Primeiramente vamos entender o que é uma variável estocástica e uma variável determinística. De maneira bem simples :\n",
    "* Variáveis estocásticas são variáveis que mesmo sabendo os valores de todos os parâmetros e componentes, ela ainda assim será aleatória. Por exemplo instâncias das classes Poisson, DiscreteUniform e Exponential ( classes do PyMC3. Iremos discutir posteriormente)\n",
    "\n",
    "* Variáveis deterministicas são variáveis que podem ser determinadas caso v saibamos os outros parâmetros. Por exemplo, na fómula F = Ma, se soubermos a massa e a aceleração, então encontramos a força.\n",
    "\n",
    "Dito isso, podemos então entender o que são distribuições de probabilidade.\n",
    "\n",
    "Considere uma variável aleatória $Z$. Associada a $Z$, temos uma função que define probabilidades para os diferentes valores que $Z$ pode ter. Essa função é conhecida como *istribuição de probabilidade* e graficamente, ela representa a curva a probabilidade de um determinado resultado é proporcional à altura da curva. Veremos exemplos em seguida.\n",
    "\n",
    "Podemos dividir variáveis aleatórias de 3 maneiras:\n",
    "\n",
    "-   **$Z$ é discreta**: Somente assume valores dentro de uma lista específica. Como exemplos podemos citar, número de votos, quantidade de acessos a uma API por dia e etc.\n",
    "\n",
    "-   **$Z$ é Contínua**: Pode assumir qualquer valor arbitrário. Por exemplo, temperatura, valocidade e tempo.\n",
    "\n",
    "- **$Z$ é misturado**: Pode assumir valores discretos e contínuos. É uma combinação das duas variáveis acima. \n",
    "\n",
    "\n",
    "<br>\n",
    "\n",
    "### Distribuição de Probabilidade Discreta\n",
    "\n",
    "Se uma variável aleatória $Z$ é discreta, então sua distribuição dé conhecida como *função de massa de probabilidade (fmp)*. Essa função mede a probabilidade de $Z$ assumir o valor $k$, denotado $P(Z=k)$. Além disso, é importante notar que a função de massa de probabilidade possui a capacidade de completamente descrever a variável $Z$. Em outras palavras, se soubermos a fmp, então saberemos o comportamento de $Z$.\n",
    "\n",
    "\n",
    "<br>\n",
    "\n",
    "### Distribuição de Probabilidade Poisson\n",
    "\n",
    "<br>\n",
    "\n",
    "A primeira fmp que iremos introduzir é *Poisson*. Dizemos que $Z$ possui distribuição de *Poisson* se:\n",
    "\n",
    "$$P(Z = k) =\\frac{ \\lambda^k e^{-\\lambda} }{k!}, \\; \\; k=0,1,2, \\dots $$\n",
    "\n",
    "* $\\lambda$ É o parâmetro da distribuição e é ele que controla o formato da distribuição.\n",
    "    * $\\lambda$ pode assumir qualquer valor positivo\n",
    "    * Aumentando o valor de $\\lambda$, nós aumentamos a probabilidades de valores maiores\n",
    "    * Diminuindo o valor de $\\lambda$, nós diminuímos a probabilidades de valores menores\n",
    "    * $\\lambda$ também é conhecida como *intensidade* da distribuição de Poisson\n",
    "\n",
    "* Diferente de  $\\lambda$ que pode assumir qualquer valor positivo, $k$ é necessariamente um inteiro não negativo ( 0, 1, 2...)\n",
    "    * O valor de $k$ faz total sentido pois não poderíamos ter 4,25 compras de um produto em um determinado dia.\n",
    "\n",
    "Para a variável $Z$ com distribuição de Poisson, temos:\n",
    "\n",
    "$$Z \\sim \\text{Poi}(\\lambda) $$\n",
    "\n",
    "Uma propriedade importante da distribuição de Poisson é que seu valor esperado ( expected value ) é igual ao seu parâmetro:\n",
    "\n",
    "$$E\\large[ \\;Z\\; | \\; \\lambda \\;\\large] = \\lambda $$\n",
    "\n",
    "<br>\n",
    "\n",
    "Essa é uma propriedade importante de lembrar pois em muitas modelagens ela é utilizada. Nos plots abaixo, temos imagens duas fmp com $\\lambda$ diferentes.Note que :\n",
    "* Aumentando $\\lambda$, adicionamos maior probabilidade de ocorrer valores mais altos\n"
   ]
  },
  {
   "cell_type": "code",
   "execution_count": 8,
   "id": "5fa7622a",
   "metadata": {},
   "outputs": [
    {
     "data": {
      "image/png": "[encoded data removed]",
      "text/plain": [
       "<Figure size 900x288 with 1 Axes>"
      ]
     },
     "metadata": {
      "needs_background": "light"
     },
     "output_type": "display_data"
    }
   ],
   "source": [
    "%matplotlib inline\n",
    "from IPython.core.pylabtools import figsize\n",
    "import numpy as np\n",
    "from matplotlib import pyplot as plt\n",
    "\n",
    "figsize(12.5, 4)\n",
    "import scipy.stats as stats\n",
    "a = np.arange(16)\n",
    "poi = stats.poisson\n",
    "lambda_ = [1.0, 4.25]\n",
    "colours = [\"#348ABD\", \"#A60628\"]\n",
    "\n",
    "plt.bar(a, poi.pmf(a, lambda_[0]), color=colours[0],\n",
    "        label=\"$\\lambda = %.1f$\" % lambda_[0], alpha=0.60,\n",
    "        edgecolor=colours[0], lw=\"3\")\n",
    "\n",
    "plt.bar(a, poi.pmf(a, lambda_[1]), color=colours[1],\n",
    "        label=\"$\\lambda = %.1f$\" % lambda_[1], alpha=0.60,\n",
    "        edgecolor=colours[1], lw=\"3\")\n",
    "\n",
    "plt.xticks(a + 0.4, a)\n",
    "plt.legend()\n",
    "plt.ylabel(\"Probabilidade de $k$\")\n",
    "plt.xlabel(\"$k$\")\n",
    "plt.title(\"Função de massa de probabilidade de uma variável aleatória de Poisson; diferentes valores de \\\n",
    "$\\lambda$ \");"
   ]
  },
  {
   "cell_type": "markdown",
   "id": "ef7761e2",
   "metadata": {},
   "source": [
    "<br>\n",
    "\n",
    "### Distribuição de Probabilidade Binomial\n",
    "\n",
    "<br>\n",
    "\n",
    "A distribuição binominal possui uma simplicidade e grande range de utilidades que fazem com que seja uma das distribuições mais utilizadas. Ela possui dois parâmetros: \n",
    "* $N$ - um valor inteiro positivo que representa o número de tentativas associadas a um evento\n",
    "* $p$ - Probabilidade de sucesso em uma determinada tentativa\n",
    "\n",
    "<br>\n",
    "\n",
    "A distribuição somente aceita valores entre $0$ e $N$. Abaixo temos sua fdm:\n",
    "\n",
    "$$P( X = k ) =  {{N}\\choose{k}}  p^k(1-p)^{N-k}$$\n",
    "\n",
    "<br>\n",
    "\n",
    "Se $X$ é uma variável aleatória com distribuição binomial com parâmetros $p$ e $N$, então:\n",
    "\n",
    "$$X \\sim \\text{Bin}(N,p)$$\n",
    "\n",
    "<br>\n",
    "\n",
    "* $X$ corresponde ao número de eventos que ocorreram em $N$ tentativas (  $0 \\le X \\le N$ )\n",
    "* Quanto maior $p$, mais eventos são prováveis de ocorrer\n",
    "* O valor esperado de uma binomial é $Np$\n",
    "\n",
    "<br>\n",
    "\n",
    "Abaixo temos os plots para diferentes parâmetros"
   ]
  },
  {
   "cell_type": "code",
   "execution_count": 9,
   "id": "6c1a4d94",
   "metadata": {},
   "outputs": [
    {
     "data": {
      "image/png": "[encoded data removed]",
      "text/plain": [
       "<Figure size 900x288 with 1 Axes>"
      ]
     },
     "metadata": {
      "needs_background": "light"
     },
     "output_type": "display_data"
    }
   ],
   "source": [
    "figsize(12.5, 4)\n",
    "\n",
    "import scipy.stats as stats\n",
    "binomial = stats.binom\n",
    "\n",
    "parameters = [(10, .4), (10, .9)]\n",
    "colors = [\"#348ABD\", \"#A60628\"]\n",
    "\n",
    "for i in range(2):\n",
    "    N, p = parameters[i]\n",
    "    _x = np.arange(N + 1)\n",
    "    plt.bar(_x - 0.5, binomial.pmf(_x, N, p), color=colors[i],\n",
    "            edgecolor=colors[i],\n",
    "            alpha=0.6,\n",
    "            label=\"$N$: %d, $p$: %.1f\" % (N, p),\n",
    "            linewidth=3)\n",
    "\n",
    "plt.legend(loc=\"upper left\")\n",
    "plt.xlim(0, 10.5)\n",
    "plt.xlabel(\"$k$\")\n",
    "plt.ylabel(\"$P(X = k)$\")\n",
    "plt.title(\"Função de Massa de Distribuição de uma variáveis aleatórias Binomiais\");"
   ]
  },
  {
   "cell_type": "markdown",
   "id": "f5f1338e",
   "metadata": {},
   "source": [
    "<br>\n",
    "\n",
    "Importante sobre a distribuição binomial:\n",
    "* Quanto $N = 1$ ela corresponde a uma distribuição de Bernoulli\n",
    "* Se $Z = X_1 + X_2 + ... + X_N \\sim \\text{Binomial}(N, p )$.\n",
    "* O valor esperado de uma variável aleatória de Bernoulli é $p$\n",
    "\n",
    "<br>"
   ]
  },
  {
   "cell_type": "markdown",
   "id": "7b5d4e39",
   "metadata": {},
   "source": [
    "### Distribuição de Probabilidade Contínua\n"
   ]
  },
  {
   "cell_type": "code",
   "execution_count": null,
   "id": "cbbd39d2",
   "metadata": {},
   "outputs": [],
   "source": []
  }
 ],
 "metadata": {
  "kernelspec": {
   "display_name": "Python 3",
   "language": "python",
   "name": "python3"
  },
  "language_info": {
   "codemirror_mode": {
    "name": "ipython",
    "version": 3
   },
   "file_extension": ".py",
   "mimetype": "text/x-python",
   "name": "python",
   "nbconvert_exporter": "python",
   "pygments_lexer": "ipython3",
   "version": "3.9.5"
  }
 },
 "nbformat": 4,
 "nbformat_minor": 5
}
