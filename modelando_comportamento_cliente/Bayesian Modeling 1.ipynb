{
 "cells": [
  {
   "cell_type": "markdown",
   "id": "322a9041",
   "metadata": {},
   "source": [
    "Inferindo Comportamento de usuários\n",
    "======\n",
    "`Vamos supor que temos dados da quantidade de compras de um determinado produto. Nós estamos interessados em saber se o comportamento do usuário mudou ao longo do tempo. `\n",
    "\n",
    "___\n",
    "\n",
    "Nesse notebook iremos utilizar dados simbólicos e códigos do livro bayesian modeling for hackers. Na versão do livro, os dados representam o comportamento de um usuário com relação a quantidade de mensagem de textos que envia. Apesar disso, podemos utilizar os conceitos aqui apresentados em qualquer tipo de modelagem onde os dados são contagens de eventos.\n"
   ]
  },
  {
   "cell_type": "markdown",
   "id": "6636f0b9",
   "metadata": {},
   "source": [
    "<br>\n",
    "\n",
    "Vamos supor que os dados abaixo representam o comportamento de compras de um determinado cliente ao longo do tempo. No eixo y temos a quantidade compras e no eixo x os tempo ( dias ). Olhando para o gráfico abaixo, você seria capaz de dizer se houve alguma mudança de comportamento desse cliente? \n",
    "\n",
    "\n"
   ]
  },
  {
   "cell_type": "code",
   "execution_count": 1,
   "id": "0897e108",
   "metadata": {},
   "outputs": [
    {
     "data": {
      "image/png": "[encoded data removed]",
      "text/plain": [
       "<Figure size 900x252 with 1 Axes>"
      ]
     },
     "metadata": {
      "needs_background": "light"
     },
     "output_type": "display_data"
    }
   ],
   "source": [
    "%matplotlib inline\n",
    "from IPython.core.pylabtools import figsize\n",
    "import numpy as np\n",
    "from matplotlib import pyplot as plt\n",
    "import scipy.stats as stats\n",
    "\n",
    "figsize(12.5, 3.5)\n",
    "count_data = np.loadtxt(\"data/txtdata.csv\")\n",
    "n_count_data = len(count_data)\n",
    "plt.bar(np.arange(n_count_data), count_data, color=\"#348ABD\")\n",
    "plt.xlabel(\"Dias\")\n",
    "plt.ylabel(\"Compras\")\n",
    "plt.title(\"Comportamento de compras de um cliente\")\n",
    "plt.xlim(0, n_count_data);"
   ]
  },
  {
   "cell_type": "markdown",
   "id": "0f151025",
   "metadata": {},
   "source": [
    "## A modelagem\n",
    "\n",
    "Vamos inicar nossa modelagem. Primeiramente, vamos lembrar que como vimos no notebook anterior -  [link do notebook](https://github.com/jmcabreira/Bayesian-Modeling/blob/main/Distribuicoes/Distribuicoes%20-%20Random%20Variables.ipynb) -\n",
    "variáveis aleatórias de Poisson são apropriadas para modelar esse tipo de dados onde temos contagens de eventos. Denotando dia $i$'s e contagem de compras por $C_i$,\n",
    "\n",
    "\n",
    "$$ C_i \\sim \\text{Poisson}(\\lambda)  $$\n",
    "\n",
    "Lembre-se que não sabemos o valor do parâmetro  $\\lambda$. Quando olhamos para o gráfico acima, podemos notar, aparentemente, os valores de compras possuem uma tendencia a aumentar em algum ponto porém não sabemos onde e se esse aumento de fato ocorre. Dizer que é possível que haja essa tendência é o mesmo que dizer que o valor de  $\\lambda$ aumenta em algum ponto do nosso range de observação. É importante salientar um valor maior de $\\lambda$ atribui maior probabilidade a valores de compras maiores. Ou seja, nesse caso existe uma maior probabilidade de muitas compras terem sido feitas em um determinado dia.\n",
    "\n",
    "Agora vamos representar essas observações matematicamente. Diante do que acabamos de discutir, vamos assumir que em um determinado período de observação desconhecido ( $\\tau$ ), o parâmetro $\\lambda$ variou para um valor maior. Dessa forma, teremos dois parâmetros $\\lambda$ : um para o período menor que $\\tau$ e outro para o resto das observações. Podemos também chamar $\\tau$ de *switchpoint*:\n",
    "\n",
    "$$\n",
    "\\lambda = \n",
    "\\begin{cases}\n",
    "\\lambda_1  & \\text{if } t \\lt \\tau \\cr\n",
    "\\lambda_2 & \\text{if } t \\ge \\tau\n",
    "\\end{cases}\n",
    "$$\n",
    "\n",
    "\n",
    "Talvez vc deva estar se perguntando : ué, e se não houver essa mudança que estamos supondo? Bom, nesse caso $\\lambda_1 = \\lambda_2$ o que implica que a distribuição posteriori dos $\\lambda$s serão similares. \n",
    "\n",
    "\n",
    "Estamos interessados em inferir os $\\lambda$s desconhecidos. Para modelar sob a perspectiva bayesiana, nós temos que atribuir probabilidades a priori ( prior probabilities ) para diferentes possíveis valores de $\\lambda$. Lembre-se de que $\\lambda$s pode ser qualquer valor positivo, e que a distribuição *exponencial* fornece uma função de densidade contínua para números positivos. Dessa forma, a *exponencial* parece ser uma boa escolha para modelar $\\lambda$. Além disso, lembre-se que a distribuição exponencial carrega consigo um parâmetro próprio e nós temos que incluí-lo na nossa modelagem. Vamos chamar esse parâmetro de $\\alpha$.\n",
    "\n",
    "\\begin{align}\n",
    "&\\lambda_1 \\sim \\text{Exp}( \\alpha ) \\\\\\\n",
    "&\\lambda_2 \\sim \\text{Exp}( \\alpha )\n",
    "\\end{align}\n",
    "\n",
    "\n",
    "\n",
    "\n",
    "$\\alpha$ é um parâmetro que influencia em outro parâmetro e por isso é chamado de hiperparâmetro. Vamos assumir que o parâmetro $\\alpha$ não possui grande influência na modelagem para termos um pouco mais de flexibilidade. Uma regra prática ( rule of thumb ) que podemos utilizar é definir o parâmetro exponencial igual ao inverso da média dos dados da observação. Como estamos modelando $\\lambda$ utilizando a distribuição exponencial, podemos utilizar o seu esperado ( expected value ) :\n",
    "\n",
    "\n",
    "$$\\frac{1}{N}\\sum_{i=0}^N \\;C_i \\approx E[\\; \\lambda \\; |\\; \\alpha ] = \\frac{1}{\\alpha}$$ \n",
    "\n",
    "\n",
    "Poderíamos também determinar duas distribuições a priori para $\\lambda_i$ e consequentemente, determinar duas distribuições exponenciais com diferentes valores de $\\alpha$. \n",
    "\n",
    "Com relação ao parâmetro $\\tau$ (*switchpoint*), fica difícil apenas observando o plot em qual momento essa possível mudança ocorreu ( se é que ocorreu ). Por conta disso, vamos assumir uma distribuição de probabilidade uniforme para todos os possíveis dias como a priori. Em outras palavras : \n",
    "\n",
    "\\begin{align}\n",
    "& \\tau \\sim \\text{DiscreteUniform(1,70) }\\\\\\\\\n",
    "& \\Rightarrow P( \\tau = k ) = \\frac{1}{70}\n",
    "\\end{align}\n",
    "\n",
    "Após todas essas premissas ( que assumimos ) estaremos interessados em descrobrir a distribuição de probabilidade posteriori que descreve o comportamento do nosso cliente. Para isso, iremos utilizar PyMC3. Uma biblioteca python para performar Análise Bayesiana que irá nos ajudar em simplicar toda essa matemática que vimos e que iremos enfrentar nas nossas modelagens.\n",
    "\n",
    "\n",
    "Lembre-se, que em nossa modelagem estaremos representando os componentes ($\\tau, \\lambda_1, \\lambda_2$ ) como variáveis."
   ]
  },
  {
   "cell_type": "code",
   "execution_count": 2,
   "id": "d97740a0",
   "metadata": {},
   "outputs": [],
   "source": [
    "%matplotlib inline\n",
    "from IPython.core.pylabtools import figsize\n",
    "import numpy as np\n",
    "from matplotlib import pyplot as plt"
   ]
  },
  {
   "cell_type": "code",
   "execution_count": 3,
   "id": "bd841f57",
   "metadata": {},
   "outputs": [
    {
     "name": "stderr",
     "output_type": "stream",
     "text": [
      "WARNING (theano.configdefaults): g++ not available, if using conda: `conda install m2w64-toolchain`\n",
      "WARNING (theano.configdefaults): g++ not detected ! Theano will be unable to execute optimized C-implementations (for both CPU and GPU) and will default to Python implementations. Performance will be severely degraded. To remove this warning, set Theano flags cxx to an empty string.\n",
      "WARNING (theano.tensor.blas): Using NumPy C-API based implementation for BLAS functions.\n"
     ]
    }
   ],
   "source": [
    "import pymc3 as pm\n",
    "\n",
    "with pm.Model() as model:\n",
    "    alpha =  1.0 / count_data.mean()  # count_data - > dados com compras do nosso cliente\n",
    "    \n",
    "    lambda_1 = pm.Exponential('lambda_1', alpha)\n",
    "    lambda_2 = pm.Exponential('lambda_2', alpha)\n",
    "    \n",
    "    tau = pm.DiscreteUniform('tau', lower = 0 , upper = n_count_data - 1)"
   ]
  },
  {
   "cell_type": "markdown",
   "id": "20b4ccdd",
   "metadata": {},
   "source": [
    "No código acima nós utilizamos PyMC3 para criar variáveis aleatórias que correspondem a $\\lambda_1$ e $\\lambda_2$. Essas variáveis são aleatórias no PyMC3 devido ao processo gerador das mesmas, que é aleatório."
   ]
  },
  {
   "cell_type": "code",
   "execution_count": 4,
   "id": "dcb27117",
   "metadata": {},
   "outputs": [],
   "source": [
    "with model:\n",
    "    idx = np.arange(n_count_data) # index\n",
    "    lambda_ = pm.math.switch(tau > idx , lambda_1, lambda_2)"
   ]
  },
  {
   "cell_type": "markdown",
   "id": "9335564b",
   "metadata": {},
   "source": [
    "Já no código acima, nós criamos uma função `lambda_` cujo pode ser pensada como uma variável aleatória. A função `switch()` atribui `lambda_1` ou `lambda_2` como valores para  `lambda_`, dependendo de qual lado do  `tau` estamos observando ( lembre-se que  `tau` é nosso switchpoint e que estamos considerando `lambda_`s diferentes ). \n",
    "\n",
    "Observe ainda que  `lambda_1`, `lambda_2` e `tau` são aleatórios, e por consequência,  `lambda_`  também o será. \n",
    "\n"
   ]
  },
  {
   "cell_type": "code",
   "execution_count": 5,
   "id": "eeaf69ed",
   "metadata": {},
   "outputs": [],
   "source": [
    "with model:\n",
    "    observation = pm.Poisson(\"obs\", lambda_, observed = count_data)"
   ]
  },
  {
   "cell_type": "markdown",
   "id": "f984ea06",
   "metadata": {},
   "source": [
    "A variável `observation` combina nossos dados `count_data` com nosso esquema de geração de dados que foi proposto, dado pela nossa variável `lambda_` e pela chave `observed` da Poisson.\n",
    "\n",
    "O código abaixo será melhor explicado nos próximos notebooks, logo, a princípio não vamos dar muitos detalhes a respeito. Apesar disso, podemos entender essa etapa como um processo de aprendizagem. O que estamos utilizando aqui é *Markov Chain Monte Carlo* (MCMC) que também será melhor detalhado posteriormente. Essa técnica nos da milhares de variáveis aleatórias das distribuições de probabilidades posteriori de $\\lambda_1, \\lambda_2$ e $\\tau$. \n",
    "\n",
    "Iremos em seguida plotar as distribuições de provbabilidades dessas variáveis para observa-las. Abaixo, nós coletamos amostras ( conhecidas como *traces* na literatura de MCMC ) em histogramas.\n"
   ]
  },
  {
   "cell_type": "code",
   "execution_count": 6,
   "id": "ce8b10e1",
   "metadata": {},
   "outputs": [
    {
     "name": "stderr",
     "output_type": "stream",
     "text": [
      "Multiprocess sampling (4 chains in 4 jobs)\n",
      "CompoundStep\n",
      ">Metropolis: [tau]\n",
      ">Metropolis: [lambda_2]\n",
      ">Metropolis: [lambda_1]\n"
     ]
    },
    {
     "data": {
      "text/html": [
       "\n",
       "<style>\n",
       "    /* Turns off some styling */\n",
       "    progress {\n",
       "        /* gets rid of default border in Firefox and Opera. */\n",
       "        border: none;\n",
       "        /* Needs to be in here for Safari polyfill so background images work as expected. */\n",
       "        background-size: auto;\n",
       "    }\n",
       "    .progress-bar-interrupted, .progress-bar-interrupted::-webkit-progress-bar {\n",
       "        background: #F44336;\n",
       "    }\n",
       "</style>\n"
      ],
      "text/plain": [
       "<IPython.core.display.HTML object>"
      ]
     },
     "metadata": {},
     "output_type": "display_data"
    },
    {
     "data": {
      "text/html": [
       "\n",
       "    <div>\n",
       "      <progress value='60000' class='' max='60000' style='width:300px; height:20px; vertical-align: middle;'></progress>\n",
       "      100.00% [60000/60000 10:42<00:00 Sampling 4 chains, 0 divergences]\n",
       "    </div>\n",
       "    "
      ],
      "text/plain": [
       "<IPython.core.display.HTML object>"
      ]
     },
     "metadata": {},
     "output_type": "display_data"
    },
    {
     "name": "stderr",
     "output_type": "stream",
     "text": [
      "Sampling 4 chains for 5_000 tune and 10_000 draw iterations (20_000 + 40_000 draws total) took 653 seconds.\n",
      "The number of effective samples is smaller than 25% for some parameters.\n"
     ]
    }
   ],
   "source": [
    "with model:\n",
    "    step = pm.Metropolis()\n",
    "    trace = pm.sample(10000, tune = 5000, step = step, return_inferencedata = False)"
   ]
  },
  {
   "cell_type": "code",
   "execution_count": 7,
   "id": "d54daac3",
   "metadata": {},
   "outputs": [],
   "source": [
    "lambda_1_samples = trace['lambda_1']\n",
    "lambda_2_samples = trace['lambda_2']\n",
    "tau_samples = trace['tau']"
   ]
  },
  {
   "cell_type": "code",
   "execution_count": 8,
   "id": "20bb15ee",
   "metadata": {},
   "outputs": [
    {
     "data": {
      "image/png": "[encoded data removed]",
      "text/plain": [
       "<Figure size 900x720 with 3 Axes>"
      ]
     },
     "metadata": {
      "needs_background": "light"
     },
     "output_type": "display_data"
    }
   ],
   "source": [
    "figsize(12.5, 10)\n",
    "#histogram of the samples:\n",
    "\n",
    "ax = plt.subplot(311)\n",
    "ax.set_autoscaley_on(False)\n",
    "\n",
    "plt.hist(lambda_1_samples, histtype='stepfilled', bins=30, alpha=0.85,\n",
    "         label=\"posterior of $\\lambda_1$\", color=\"#A60628\", density=True)\n",
    "plt.legend(loc=\"upper left\")\n",
    "plt.title(r\"\"\"Distribuição posteriori de \n",
    "    $\\lambda_1,\\;\\lambda_2,\\;\\tau$\"\"\")\n",
    "plt.xlim([15, 30])\n",
    "plt.xlabel(\"$\\lambda_1$ value\")\n",
    "\n",
    "ax = plt.subplot(312)\n",
    "ax.set_autoscaley_on(False)\n",
    "plt.hist(lambda_2_samples, histtype='stepfilled', bins=30, alpha=0.85,\n",
    "         label=\"posteriori de $\\lambda_2$\", color=\"#7A68A6\", density=True)\n",
    "plt.legend(loc=\"upper left\")\n",
    "plt.xlim([15, 30])\n",
    "plt.xlabel(\"$\\lambda_2$ value\")\n",
    "\n",
    "plt.subplot(313)\n",
    "w = 1.0 / tau_samples.shape[0] * np.ones_like(tau_samples)\n",
    "plt.hist(tau_samples, bins=n_count_data, alpha=1,\n",
    "         label=r\"posteriori de $\\tau$\",\n",
    "         color=\"#467821\", weights=w, rwidth=2.)\n",
    "plt.xticks(np.arange(n_count_data))\n",
    "\n",
    "plt.legend(loc=\"upper left\")\n",
    "plt.ylim([0, .75])\n",
    "plt.xlim([35, len(count_data)-20])\n",
    "plt.xlabel(r\"$\\tau$ (em dias)\")\n",
    "plt.ylabel(\"Probabilidade\");"
   ]
  },
  {
   "cell_type": "markdown",
   "id": "73f4115b",
   "metadata": {},
   "source": [
    "## Como interpretamos os resultados ?\n",
    "\n",
    "\n",
    "Primeiramente devemos lembrar que a metodologia bayesiana nos dá distribuições de probabilidades como resultado. Acima, temos as distribuições para os parâmetros $\\lambda$s e $\\tau$. Pontos que devemos observar:\n",
    "* A incerteza da estimação:\n",
    "    * Quando mais largo for a distribuição, maior a incerteza da inferência\n",
    "* Podemos observar valores plausíveis para $\\lambda$s\n",
    "    * $\\lambda_1$ em torno de 18 \n",
    "    * $\\lambda_2$ em torno de 23\n",
    "\n",
    "* As distribuições a posteriori de $\\lambda_1$ e $\\lambda_2$ são distintas\n",
    "    * Isso indica que é bem provável que, de fato, houve mudança de comportamento do cliente\n",
    "\n",
    "* A distribuição de $\\tau$ é uma distribuição discreta\n",
    "    * Podemos notar que sua distribuição a posteriori\n",
    "    * Não atribui probabilidades a intervalos\n",
    "        * Temos, próximo do dia 45, 50% de chance do usuário ter mudado seu comportamento\n",
    "    * Se não tivéssemos mudanças de comportamento ou se tivesse ocorrido de uma forma gratual ao longo do tempo, a distribuição \n",
    "    a posteriori seria mais larga\n",
    "        * Isso indicaria que teríamos muitos dias como candidados para $\\tau$\n",
    "    * A posteriori apresentada para $\\tau$ temos apenas três ou quatro dias que seriam candidatos a serem escolhidos como\n",
    "    o switchpoint da mudança de comportamento\n",
    "\n",
    "Importante nota que as distribuições de probabilidades a posteriori dos $\\lambda$s não se parecem com distribuições exponenciais apesar de termos utilizado variáveis aleatórias com essa característica em nosso a priori. Isso não implica nenhum problema em nossa modelage, pois estamos utilizando os recursos computacionais para fazer com que o algorítmo bayesiano nos dê a distribuição a priori que mais representa os dados, dado nossa modelagem e as observações.\n",
    "\n",
    "<br>\n",
    "\n",
    "\n",
    "\n",
    "\n",
    "Vamos utilizar amostras da nossas distribuições a posteriori para responder a pergunta: Qual o valor esperado de comprar para esse cliente no dia $t, 0 \\le t \\le 70$ ? Lembre-se de que o valor experado de uma variável aleatória de Poisson é igual ao seu parâmetro $\\lambda$. Dessa forma, essa pergunta é o mesmo que perguntar *Qual é o valor esperado de $\\lambda$ no dia $t$* ?\n",
    "\n",
    "No código abaixo, considere $i$ sendo o index da distribuição a posteriori. Dado o dia $t$, nós retiramos a média sobre todos os valores possívels de $\\lambda_i$ para o dia $t$ utilizando  $\\lambda_i = \\lambda_{1,i}$, se $t \\lt \\tau_i$ ( ou seja, se a mudança de comportamente do cliente ainda não ocorreu ), caso contrário  $\\lambda_i = \\lambda_{2,i}$\n",
    "\n",
    "\n",
    "\n"
   ]
  },
  {
   "cell_type": "code",
   "execution_count": 9,
   "id": "0e538568",
   "metadata": {},
   "outputs": [
    {
     "data": {
      "image/png": "[encoded data removed]",
      "text/plain": [
       "<Figure size 900x360 with 1 Axes>"
      ]
     },
     "metadata": {
      "needs_background": "light"
     },
     "output_type": "display_data"
    }
   ],
   "source": [
    "figsize(12.5, 5)\n",
    "# tau_samples, lambda_1_samples, lambda_2_samples contem\n",
    "# N amostras da distribuição a posteriori\n",
    "N = tau_samples.shape[0]\n",
    "expected_buys_per_day = np.zeros(n_count_data)\n",
    "for day in range(0, n_count_data):\n",
    "    # ix é o index de todas as amostras de tau correspondentes ao\n",
    "    # the switchpoint que ocorreram anteriormente ao dia (day)\n",
    "    ix = day < tau_samples\n",
    "    # cada amostra a posteriori corresponde a valor para  tau.\n",
    "    # para cada dia, o valor correspondente de tau indica se estamos na regiao do lamba_1 ou lambda_2\n",
    "    # Quando retiramos a amostra a posteiori de lambda1/2, estamos tirando a média\n",
    "    # de todas as amostras para termos o valor esperado de lambda naquele dia em questão\n",
    "    # o count é uma variável aleatória de Poisson e por conta disso, \n",
    "    # lambda do parâmetro de Poisson é o valor esperado da contagem.\n",
    "\n",
    "    expected_buys_per_day[day] = (lambda_1_samples[ix].sum()\n",
    "                                   + lambda_2_samples[~ix].sum()) / N\n",
    "\n",
    "\n",
    "plt.plot(range(n_count_data), expected_buys_per_day, lw=4, color=\"#E24A33\",\n",
    "         label=\"valor esperado de compras\")\n",
    "plt.xlim(0, n_count_data)\n",
    "plt.xlabel(\"Dia\")\n",
    "plt.ylabel(\"Valor esperado de compras \")\n",
    "plt.title(\"Valor esperado de compras para o cliente A\")\n",
    "plt.ylim(0, 60)\n",
    "plt.bar(np.arange(len(count_data)), count_data, color=\"#348ABD\", alpha=0.65,\n",
    "        label=\"compras observadas por dia\")\n",
    "\n",
    "plt.legend(loc=\"upper left\");"
   ]
  },
  {
   "cell_type": "markdown",
   "id": "df55228a",
   "metadata": {},
   "source": [
    "Nossa análise mostra que temos fortes indícios de que houve mudança no comportamento do cliente. Se essa mudança não tivesse ocorrido, os valores de $\\lambda_1$ seria próximo de $\\lambda_2$. Ainda, podemos notar através do gráfico que essa mudança foi abrupta, dado o pico que temos no valor esperado de mensagems, como demonstrado também no pico que temos na distribuição a posteriori de  $\\tau$. Poderíamos investigar o motivo dessa mudança de comportamento. Será que houve algum efeito externo ou foi algo que ocorreu aqui dentro da nossa casa ( na empresa )."
   ]
  },
  {
   "cell_type": "markdown",
   "id": "181ca2c5",
   "metadata": {},
   "source": [
    "---"
   ]
  }
 ],
 "metadata": {
  "kernelspec": {
   "display_name": "Python 3",
   "language": "python",
   "name": "python3"
  },
  "language_info": {
   "codemirror_mode": {
    "name": "ipython",
    "version": 3
   },
   "file_extension": ".py",
   "mimetype": "text/x-python",
   "name": "python",
   "nbconvert_exporter": "python",
   "pygments_lexer": "ipython3",
   "version": "3.9.5"
  }
 },
 "nbformat": 4,
 "nbformat_minor": 5
}
